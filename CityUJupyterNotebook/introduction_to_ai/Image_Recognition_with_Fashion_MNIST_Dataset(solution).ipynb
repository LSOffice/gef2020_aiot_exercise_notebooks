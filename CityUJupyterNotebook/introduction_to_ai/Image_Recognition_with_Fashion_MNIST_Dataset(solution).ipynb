{
 "cells": [
  {
   "cell_type": "markdown",
   "metadata": {
    "id": "v6nXJAWeRkac"
   },
   "source": [
    "# **Neural Network Model for the Fashion MNIST Dataset**"
   ]
  },
  {
   "cell_type": "markdown",
   "metadata": {
    "id": "AL2XktOgTb7q"
   },
   "source": [
    "In this notebook, we will implement a neural network model to recognize different fashion products in the Fashion MNIST dataset\n",
    "\n",
    "\\\n",
    "**Instruction: type your code when you see 'Type your code here' in comments**"
   ]
  },
  {
   "cell_type": "code",
   "execution_count": null,
   "metadata": {
    "colab": {
     "base_uri": "https://localhost:8080/"
    },
    "id": "9DiswJ1NHBbo",
    "outputId": "af9c7e01-6737-4e10-e7b6-66677208d9b2"
   },
   "outputs": [],
   "source": [
    "import tensorflow as tf\n",
    "\n",
    "print(\"Num GPUs Available: \", len(tf.config.list_physical_devices('GPU')))\n",
    "print('Tensorflow version:',tf.__version__)\n",
    "import numpy as np\n",
    "import pandas as pd\n",
    "from matplotlib import pyplot as plt\n",
    "\n",
    "import seaborn as sns\n",
    "plt.style.use('seaborn')\n",
    "\n",
    "import os\n",
    "print('Keras version:', tf.keras.__version__)"
   ]
  },
  {
   "cell_type": "markdown",
   "metadata": {
    "id": "XrsfftiFnrGB"
   },
   "source": [
    "# Loading the Fashion MNIST Dataset"
   ]
  },
  {
   "cell_type": "code",
   "execution_count": null,
   "metadata": {
    "colab": {
     "base_uri": "https://localhost:8080/"
    },
    "id": "g5gUoWwWHWBU",
    "outputId": "82dd3a41-409a-4508-94a6-334560cc60e7"
   },
   "outputs": [],
   "source": [
    "(x_train, y_train), (x_test, y_test) = tf.keras.datasets.fashion_mnist.load_data()"
   ]
  },
  {
   "cell_type": "code",
   "execution_count": null,
   "metadata": {
    "colab": {
     "base_uri": "https://localhost:8080/"
    },
    "id": "iFgSMzXpkwhN",
    "outputId": "5693292c-a907-4964-b276-25e96438bb2c"
   },
   "outputs": [],
   "source": [
    "print(f'Shape of an image: {x_train[0].shape}')\n",
    "print(f'Max pixel value: {x_train.max()}')\n",
    "print(f'Min pixel value: {x_train.min()}')\n",
    "print(f'Classes: {np.unique(y_train)}')"
   ]
  },
  {
   "cell_type": "code",
   "execution_count": null,
   "metadata": {
    "id": "crQSkyUtiawn"
   },
   "outputs": [],
   "source": [
    "# Creating a list of labels\n",
    "\n",
    "fashion_mnist_labels = [\"T-shirt/top\", \n",
    "             \"Trouser\",\n",
    "             \"Pullover\",\n",
    "             \"Dress\",\n",
    "             \"Coat\",\n",
    "             \"Sandal\", \n",
    "             \"Shirt\",\n",
    "             \"Sneaker\",\n",
    "             \"Bag\",\n",
    "             \"Ankle boot\"]"
   ]
  },
  {
   "cell_type": "markdown",
   "metadata": {
    "id": "ooZWvwRXkLdK"
   },
   "source": [
    "# Plotting some of the images"
   ]
  },
  {
   "cell_type": "code",
   "execution_count": null,
   "metadata": {
    "colab": {
     "base_uri": "https://localhost:8080/",
     "height": 487
    },
    "id": "x6JjaY2CifH_",
    "outputId": "309648d1-0aa6-4392-a750-19c9fcccb8ce"
   },
   "outputs": [],
   "source": [
    "figure = plt.figure(figsize=(20,8))\n",
    "\n",
    "indices = np.random.choice(np.arange(x_train.shape[0]), 15, replace=False)\n",
    "subset = x_train[indices]\n",
    "\n",
    "for i, image_sample in enumerate(subset):\n",
    "  ax = figure.add_subplot(3, 5, i + 1, xticks=[], yticks=[])\n",
    "  j = fashion_mnist_labels[y_train[indices[i]]] #image label\n",
    "  ax.set_title(j, fontsize=20)\n",
    "  ax.imshow(image_sample.reshape(28,28))\n",
    "  i+=1"
   ]
  },
  {
   "cell_type": "markdown",
   "metadata": {
    "id": "zgbPf6PLsOCy"
   },
   "source": [
    "# Count plot of the training set\n"
   ]
  },
  {
   "cell_type": "code",
   "execution_count": null,
   "metadata": {
    "colab": {
     "base_uri": "https://localhost:8080/",
     "height": 296
    },
    "id": "7odJ53x4pRlf",
    "outputId": "0fd22a25-652b-4a71-8226-c280191fce8b"
   },
   "outputs": [
    {
     "data": {
      "text/plain": [
       "<matplotlib.axes._subplots.AxesSubplot at 0x7f2a0403fe50>"
      ]
     },
     "execution_count": 6,
     "metadata": {},
     "output_type": "execute_result"
    },
    {
     "data": {
      "image/png": "[encoded data removed]",
      "text/plain": [
       "<Figure size 432x288 with 1 Axes>"
      ]
     },
     "metadata": {
      "needs_background": "light"
     },
     "output_type": "display_data"
    }
   ],
   "source": [
    "y_train_pd = pd.DataFrame(y_train, columns=['label'])\n",
    "sns.countplot(x='label', data=y_train_pd)"
   ]
  },
  {
   "cell_type": "markdown",
   "metadata": {
    "id": "Y7dHIp2nsT8w"
   },
   "source": [
    "# Count plot of the testing set\n"
   ]
  },
  {
   "cell_type": "code",
   "execution_count": null,
   "metadata": {
    "colab": {
     "base_uri": "https://localhost:8080/",
     "height": 296
    },
    "id": "eCGJoMnrsIzr",
    "outputId": "b2ecad30-f412-42f9-d092-28bf95ab5d91"
   },
   "outputs": [
    {
     "data": {
      "text/plain": [
       "<matplotlib.axes._subplots.AxesSubplot at 0x7f2a0375b6d0>"
      ]
     },
     "execution_count": 7,
     "metadata": {},
     "output_type": "execute_result"
    },
    {
     "data": {
      "image/png": "[encoded data removed]",
      "text/plain": [
       "<Figure size 432x288 with 1 Axes>"
      ]
     },
     "metadata": {
      "needs_background": "light"
     },
     "output_type": "display_data"
    }
   ],
   "source": [
    "y_test_pd = pd.DataFrame(y_test, columns=['label'])\n",
    "sns.countplot(x='label', data=y_test_pd)"
   ]
  },
  {
   "cell_type": "code",
   "execution_count": null,
   "metadata": {
    "colab": {
     "base_uri": "https://localhost:8080/"
    },
    "id": "c-B6j1ZSIDue",
    "outputId": "69e925ed-c587-489a-a50c-2b89a09e752c"
   },
   "outputs": [
    {
     "name": "stdout",
     "output_type": "stream",
     "text": [
      "9\n",
      "[0. 0. 0. 0. 0. 0. 0. 0. 0. 1.]\n",
      "Max pixel value: 1.0\n",
      "Min pixel value: 0.0\n",
      "Train size: 60000, Test size: 10000\n",
      "Train data shape: (60000, 28, 28), Test data shape: (10000, 28, 28)\n",
      "Train label shape: (60000, 10), Test label shape: (10000, 10)\n"
     ]
    }
   ],
   "source": [
    "#Type your code here\n",
    "\n",
    "x_train = x_train/255   #feature scaling (Hint:255 is the maximum pixel value)\n",
    "x_test = x_test/255\n",
    "\n",
    "num_classes = 10 #no. of classes\n",
    "\n",
    "train_one_hot = tf.keras.utils.to_categorical(y_train, num_classes) #one hot encoding for the training set\n",
    "test_one_hot = tf.keras.utils.to_categorical(y_test, num_classes) #one hot encdoing for the testing set\n",
    "\n",
    "print(y_train[0])\n",
    "print(train_one_hot[0])\n",
    "\n",
    "\n",
    "train_size = x_train.shape[0]\n",
    "test_size = x_test.shape[0]\n",
    "\n",
    "\n",
    "print(f'Max pixel value: {x_train.max()}')\n",
    "print(f'Min pixel value: {x_train.min()}')\n",
    "print(f'Train size: {train_size}, Test size: {test_size}')\n",
    "print(f'Train data shape: {x_train.shape}, Test data shape: {x_test.shape}')\n",
    "print(f'Train label shape: {train_one_hot.shape}, Test label shape: {test_one_hot.shape}')\n"
   ]
  },
  {
   "cell_type": "markdown",
   "metadata": {
    "id": "bJc8aaaUGwWy"
   },
   "source": [
    "## Task: In this section, we are going to define our neural network model\n",
    "\n",
    "Implement a neural network according to the below figure, it consists of:\n",
    "\n",
    "1.   **an input layer**\n",
    "> Shape = INPUT_SHAPE\n",
    "2.   **a dense layer**\n",
    "> No. of hidden units = 100, Activation = 'relu'\n",
    "3.   **an output (dense) layer**\n",
    "> Activation = 'softmax'\n",
    "\n",
    "\n",
    "![](https://drive.google.com/uc?export=view&id=1k41hOCQY7QWB270IJ0VXo1cdMpZb6hmy)\n",
    "\n",
    "\n",
    "**Links to the documentation for your reference:**\n",
    "\n",
    "Input layer:\n",
    "https://www.tensorflow.org/api_docs/python/tf/keras/Input\n",
    "\n",
    "Dense layer:\n",
    "https://www.tensorflow.org/api_docs/python/tf/keras/layers/Dense\n",
    "\n",
    "\n",
    "\n",
    "\n",
    "\n",
    "\n",
    "\n"
   ]
  },
  {
   "cell_type": "markdown",
   "metadata": {
    "id": "JlzNjl1dR8fR"
   },
   "source": [
    "# **Model training**"
   ]
  },
  {
   "cell_type": "markdown",
   "metadata": {
    "id": "viLCm5A6ZKCi"
   },
   "source": [
    "### Softmax function\n",
    "\n"
   ]
  },
  {
   "cell_type": "markdown",
   "metadata": {
    "id": "-VEFqjYaS-Jw"
   },
   "source": [
    "At the output layer, the softmax function is used to normalize the output scores into probabilities:\n",
    "\n",
    "\n",
    "$$p_i = softmax(y_i) = \\frac{\\exp({y_i})}{ \\sum_{j=1}^n \\exp({y_j})}$$\n",
    "\n",
    "After applying the softmax function, the sum of the output probabilities will be 1:\n",
    " $$\\sum_{i=1}^n p_i = 1$$\n",
    "\n",
    "\n"
   ]
  },
  {
   "cell_type": "code",
   "execution_count": null,
   "metadata": {
    "colab": {
     "base_uri": "https://localhost:8080/"
    },
    "id": "tTaONtvVwOV-",
    "outputId": "ede7d933-c9b9-4bde-c30c-56987788e924"
   },
   "outputs": [
    {
     "name": "stdout",
     "output_type": "stream",
     "text": [
      "Train data shape: (60000, 784), Test data shape: (10000, 784)\n"
     ]
    }
   ],
   "source": [
    "#Type your code here\n",
    "\n",
    "# Reshaping the data\n",
    "INPUT_SHAPE = [28*28]  #input shape for one image\n",
    "\n",
    "x_train = x_train.reshape([-1]+INPUT_SHAPE)\n",
    "x_test = x_test.reshape([-1]+INPUT_SHAPE)\n",
    "\n",
    "print(f'Train data shape: {x_train.shape}, Test data shape: {x_test.shape}')"
   ]
  },
  {
   "cell_type": "code",
   "execution_count": null,
   "metadata": {
    "colab": {
     "base_uri": "https://localhost:8080/"
    },
    "id": "V5LvQVyEx5OW",
    "outputId": "77df2ce2-c5b7-4b1d-a94a-6219f17f304e"
   },
   "outputs": [
    {
     "name": "stdout",
     "output_type": "stream",
     "text": [
      "Model: \"dnn_mnist_model\"\n",
      "_________________________________________________________________\n",
      "Layer (type)                 Output Shape              Param #   \n",
      "=================================================================\n",
      "input_1 (InputLayer)         [(None, 784)]             0         \n",
      "_________________________________________________________________\n",
      "dense (Dense)                (None, 100)               78500     \n",
      "_________________________________________________________________\n",
      "dense_1 (Dense)              (None, 10)                1010      \n",
      "=================================================================\n",
      "Total params: 79,510\n",
      "Trainable params: 79,510\n",
      "Non-trainable params: 0\n",
      "_________________________________________________________________\n"
     ]
    }
   ],
   "source": [
    "from tensorflow.keras.layers import *\n",
    "\n",
    "\n",
    "tf.keras.backend.clear_session()\n",
    "\n",
    "#Type your code here\n",
    "\n",
    "#Define and compile your model\n",
    "#=============================================\n",
    "\n",
    "inputs = tf.keras.Input(shape=INPUT_SHAPE)\n",
    "\n",
    "x = Dense(units=100, activation='relu')(inputs)\n",
    "\n",
    "outputs = Dense(units=num_classes, activation='softmax')(x)\n",
    "\n",
    "model = tf.keras.Model(inputs=inputs, outputs=outputs, name='dnn_mnist_model')\n",
    "\n",
    "\n",
    "\n",
    "#=============================================\n",
    "model.summary()"
   ]
  },
  {
   "cell_type": "code",
   "execution_count": null,
   "metadata": {
    "colab": {
     "base_uri": "https://localhost:8080/",
     "height": 312
    },
    "id": "5WFAQrCTzj7r",
    "outputId": "75ee36da-5fb4-4e57-fadc-e6de76c12a2b"
   },
   "outputs": [
    {
     "data": {
      "image/png": "[encoded data removed]",
      "text/plain": [
       "<IPython.core.display.Image object>"
      ]
     },
     "execution_count": 14,
     "metadata": {},
     "output_type": "execute_result"
    }
   ],
   "source": [
    "tf.keras.utils.plot_model(model, \"dnn_model.png\", show_shapes=True)"
   ]
  },
  {
   "cell_type": "markdown",
   "metadata": {
    "id": "5Op23J1EXXVC"
   },
   "source": [
    "## Defining callback functions and training the model"
   ]
  },
  {
   "cell_type": "code",
   "execution_count": null,
   "metadata": {
    "id": "xY5TCrerwAye"
   },
   "outputs": [],
   "source": [
    "#Type your code here\n",
    "optimizer = tf.keras.optimizers.Adam(\n",
    "    learning_rate = 0.001,\n",
    "    beta_1 = 0.9,\n",
    "    beta_2 = 0.999,\n",
    "    epsilon=1e-7,\n",
    "    name='Adam'\n",
    ")\n",
    "\n",
    "model.compile(\n",
    "    loss = 'categorical_crossentropy',\n",
    "    optimizer = optimizer,\n",
    "    metrics=['accuracy']\n",
    ")"
   ]
  },
  {
   "cell_type": "code",
   "execution_count": null,
   "metadata": {
    "colab": {
     "base_uri": "https://localhost:8080/"
    },
    "id": "XAejv__1pFmj",
    "outputId": "7c645778-2abf-4a6a-c686-76501ba4bc18",
    "scrolled": true
   },
   "outputs": [
    {
     "name": "stdout",
     "output_type": "stream",
     "text": [
      "Epoch 1/100\n",
      "420/420 [==============================] - 5s 4ms/step - loss: 0.5869 - accuracy: 0.8008 - val_loss: 0.4477 - val_accuracy: 0.8452\n",
      "Epoch 2/100\n",
      "420/420 [==============================] - 2s 4ms/step - loss: 0.4201 - accuracy: 0.8535 - val_loss: 0.4062 - val_accuracy: 0.8569\n",
      "Epoch 3/100\n",
      "420/420 [==============================] - 1s 3ms/step - loss: 0.3819 - accuracy: 0.8654 - val_loss: 0.3889 - val_accuracy: 0.8634\n",
      "Epoch 4/100\n",
      "420/420 [==============================] - 1s 3ms/step - loss: 0.3529 - accuracy: 0.8747 - val_loss: 0.3610 - val_accuracy: 0.8719\n",
      "Epoch 5/100\n",
      "420/420 [==============================] - 1s 3ms/step - loss: 0.3315 - accuracy: 0.8800 - val_loss: 0.3723 - val_accuracy: 0.8691\n",
      "Epoch 6/100\n",
      "420/420 [==============================] - 1s 3ms/step - loss: 0.3162 - accuracy: 0.8868 - val_loss: 0.3400 - val_accuracy: 0.8776\n",
      "Epoch 7/100\n",
      "420/420 [==============================] - 2s 4ms/step - loss: 0.3035 - accuracy: 0.8899 - val_loss: 0.3423 - val_accuracy: 0.8751\n",
      "Epoch 8/100\n",
      "420/420 [==============================] - 1s 3ms/step - loss: 0.2908 - accuracy: 0.8926 - val_loss: 0.3579 - val_accuracy: 0.8756\n",
      "Epoch 9/100\n",
      "420/420 [==============================] - 1s 3ms/step - loss: 0.2794 - accuracy: 0.8984 - val_loss: 0.3460 - val_accuracy: 0.8784\n",
      "Epoch 10/100\n",
      "420/420 [==============================] - 1s 3ms/step - loss: 0.2707 - accuracy: 0.9016 - val_loss: 0.3378 - val_accuracy: 0.8803\n",
      "Epoch 11/100\n",
      "420/420 [==============================] - 1s 3ms/step - loss: 0.2613 - accuracy: 0.9035 - val_loss: 0.3263 - val_accuracy: 0.8845\n",
      "Epoch 12/100\n",
      "420/420 [==============================] - 1s 4ms/step - loss: 0.2533 - accuracy: 0.9070 - val_loss: 0.3358 - val_accuracy: 0.8827\n",
      "Epoch 13/100\n",
      "420/420 [==============================] - 2s 4ms/step - loss: 0.2453 - accuracy: 0.9100 - val_loss: 0.3240 - val_accuracy: 0.8861\n",
      "Epoch 14/100\n",
      "420/420 [==============================] - 1s 3ms/step - loss: 0.2389 - accuracy: 0.9126 - val_loss: 0.3187 - val_accuracy: 0.8858\n",
      "Epoch 15/100\n",
      "420/420 [==============================] - 1s 3ms/step - loss: 0.2322 - accuracy: 0.9152 - val_loss: 0.3186 - val_accuracy: 0.8876\n",
      "Epoch 16/100\n",
      "420/420 [==============================] - 1s 4ms/step - loss: 0.2261 - accuracy: 0.9174 - val_loss: 0.3181 - val_accuracy: 0.8869\n",
      "Epoch 17/100\n",
      "420/420 [==============================] - 1s 3ms/step - loss: 0.2204 - accuracy: 0.9192 - val_loss: 0.3232 - val_accuracy: 0.8853\n",
      "Epoch 18/100\n",
      "420/420 [==============================] - 1s 3ms/step - loss: 0.2176 - accuracy: 0.9198 - val_loss: 0.3309 - val_accuracy: 0.8818\n",
      "Epoch 19/100\n",
      "420/420 [==============================] - 1s 4ms/step - loss: 0.2095 - accuracy: 0.9221 - val_loss: 0.3129 - val_accuracy: 0.8908\n",
      "Epoch 20/100\n",
      "420/420 [==============================] - 1s 3ms/step - loss: 0.2012 - accuracy: 0.9250 - val_loss: 0.3242 - val_accuracy: 0.8895\n",
      "Epoch 21/100\n",
      "420/420 [==============================] - 1s 3ms/step - loss: 0.1998 - accuracy: 0.9263 - val_loss: 0.3318 - val_accuracy: 0.8829\n",
      "Epoch 22/100\n",
      "420/420 [==============================] - 1s 3ms/step - loss: 0.1954 - accuracy: 0.9284 - val_loss: 0.3366 - val_accuracy: 0.8868\n",
      "Epoch 23/100\n",
      "420/420 [==============================] - 2s 4ms/step - loss: 0.1927 - accuracy: 0.9300 - val_loss: 0.3297 - val_accuracy: 0.8904\n",
      "Epoch 24/100\n",
      "420/420 [==============================] - 1s 4ms/step - loss: 0.1849 - accuracy: 0.9326 - val_loss: 0.3297 - val_accuracy: 0.8896\n",
      "Restoring model weights from the end of the best epoch.\n",
      "Epoch 00024: early stopping\n"
     ]
    }
   ],
   "source": [
    "from tensorflow.keras.callbacks import EarlyStopping\n",
    "\n",
    "\n",
    "\n",
    "\n",
    "batch_size = 100\n",
    "epochs = 100\n",
    "\n",
    "#Early Stopping callback function\n",
    "es = EarlyStopping(\n",
    "    monitor='val_accuracy',\n",
    "    min_delta = 0,\n",
    "    patience=5,\n",
    "    verbose=1,\n",
    "    mode='max',\n",
    "    restore_best_weights=True\n",
    ")\n",
    "\n",
    "\n",
    "\n",
    "\n",
    "# Starting the training\n",
    "history =  model.fit(x_train, train_one_hot, epochs=epochs, batch_size=batch_size, \n",
    "                     validation_split=0.3, callbacks=[es]) #calling model.fit()\n",
    "\n",
    "\n"
   ]
  },
  {
   "cell_type": "markdown",
   "metadata": {
    "id": "t_S7_G5zEnGb"
   },
   "source": [
    "# **Plotting the learning curves**"
   ]
  },
  {
   "cell_type": "code",
   "execution_count": null,
   "metadata": {
    "colab": {
     "base_uri": "https://localhost:8080/",
     "height": 283
    },
    "id": "rBeVKlEmL0uo",
    "outputId": "1f891b53-270c-4729-fe0d-ed6b5efcd352"
   },
   "outputs": [
    {
     "data": {
      "text/plain": [
       "<matplotlib.axes._subplots.AxesSubplot at 0x7f29f73f7250>"
      ]
     },
     "execution_count": 19,
     "metadata": {},
     "output_type": "execute_result"
    },
    {
     "data": {
      "image/png": "[encoded data removed]",
      "text/plain": [
       "<Figure size 432x288 with 1 Axes>"
      ]
     },
     "metadata": {
      "needs_background": "light"
     },
     "output_type": "display_data"
    }
   ],
   "source": [
    "res = pd.DataFrame(history.history)\n",
    "res[['loss','val_loss']].plot()"
   ]
  },
  {
   "cell_type": "code",
   "execution_count": null,
   "metadata": {
    "colab": {
     "base_uri": "https://localhost:8080/",
     "height": 282
    },
    "id": "EKDlmrFsm24T",
    "outputId": "d29cf09a-21a6-452d-dea4-4877b58b92c5"
   },
   "outputs": [
    {
     "data": {
      "text/plain": [
       "<matplotlib.axes._subplots.AxesSubplot at 0x7f29fad29f90>"
      ]
     },
     "execution_count": 20,
     "metadata": {},
     "output_type": "execute_result"
    },
    {
     "data": {
      "image/png": "[encoded data removed]",
      "text/plain": [
       "<Figure size 432x288 with 1 Axes>"
      ]
     },
     "metadata": {
      "needs_background": "light"
     },
     "output_type": "display_data"
    }
   ],
   "source": [
    "res[['accuracy','val_accuracy']].plot()"
   ]
  },
  {
   "cell_type": "markdown",
   "metadata": {
    "id": "88aIDx-NmnK_"
   },
   "source": [
    "# **Model evaluation on the testing set**"
   ]
  },
  {
   "cell_type": "code",
   "execution_count": null,
   "metadata": {
    "colab": {
     "base_uri": "https://localhost:8080/"
    },
    "id": "Roh6t94BlV_P",
    "outputId": "08835a9a-8fba-4dd7-e732-976f7c861319"
   },
   "outputs": [
    {
     "name": "stdout",
     "output_type": "stream",
     "text": [
      "313/313 [==============================] - 1s 3ms/step - loss: 0.3442 - accuracy: 0.8807\n",
      "loss: 0.3442\n",
      "accuracy: 0.8807\n"
     ]
    }
   ],
   "source": [
    "#Type your code here\n",
    "\n",
    "scores = model.evaluate(x_test, test_one_hot, verbose=1)   #calling model.evaluate()\n",
    "names = model.metrics_names\n",
    "\n",
    "for i in range(len(scores)):\n",
    "  print(f'{names[i]}: {scores[i]:.4f}')"
   ]
  },
  {
   "cell_type": "code",
   "execution_count": null,
   "metadata": {
    "id": "hqLC0PHy8QST"
   },
   "outputs": [],
   "source": [
    "model.save('model.h5')"
   ]
  },
  {
   "cell_type": "code",
   "execution_count": null,
   "metadata": {
    "colab": {
     "base_uri": "https://localhost:8080/"
    },
    "id": "z5Q79zvC8cti",
    "outputId": "ff90fb9e-16c7-4b1e-e278-3027f92502c6"
   },
   "outputs": [
    {
     "name": "stdout",
     "output_type": "stream",
     "text": [
      "dnn_model.png  model.h5  \u001b[0m\u001b[01;34msample_data\u001b[0m/\n"
     ]
    }
   ],
   "source": [
    "ls"
   ]
  },
  {
   "cell_type": "code",
   "execution_count": null,
   "metadata": {
    "colab": {
     "base_uri": "https://localhost:8080/",
     "height": 17
    },
    "id": "_Zz7xrm58fdG",
    "outputId": "ed23e84b-9a3b-4b92-f9bd-6b92eb3887b7"
   },
   "outputs": [
    {
     "data": {
      "application/javascript": [
       "\n",
       "    async function download(id, filename, size) {\n",
       "      if (!google.colab.kernel.accessAllowed) {\n",
       "        return;\n",
       "      }\n",
       "      const div = document.createElement('div');\n",
       "      const label = document.createElement('label');\n",
       "      label.textContent = `Downloading \"${filename}\": `;\n",
       "      div.appendChild(label);\n",
       "      const progress = document.createElement('progress');\n",
       "      progress.max = size;\n",
       "      div.appendChild(progress);\n",
       "      document.body.appendChild(div);\n",
       "\n",
       "      const buffers = [];\n",
       "      let downloaded = 0;\n",
       "\n",
       "      const channel = await google.colab.kernel.comms.open(id);\n",
       "      // Send a message to notify the kernel that we're ready.\n",
       "      channel.send({})\n",
       "\n",
       "      for await (const message of channel.messages) {\n",
       "        // Send a message to notify the kernel that we're ready.\n",
       "        channel.send({})\n",
       "        if (message.buffers) {\n",
       "          for (const buffer of message.buffers) {\n",
       "            buffers.push(buffer);\n",
       "            downloaded += buffer.byteLength;\n",
       "            progress.value = downloaded;\n",
       "          }\n",
       "        }\n",
       "      }\n",
       "      const blob = new Blob(buffers, {type: 'application/binary'});\n",
       "      const a = document.createElement('a');\n",
       "      a.href = window.URL.createObjectURL(blob);\n",
       "      a.download = filename;\n",
       "      div.appendChild(a);\n",
       "      a.click();\n",
       "      div.remove();\n",
       "    }\n",
       "  "
      ],
      "text/plain": [
       "<IPython.core.display.Javascript object>"
      ]
     },
     "metadata": {},
     "output_type": "display_data"
    },
    {
     "data": {
      "application/javascript": [
       "download(\"download_d8359669-72e7-4ee9-956b-eeea91028bd1\", \"model.h5\", 980896)"
      ],
      "text/plain": [
       "<IPython.core.display.Javascript object>"
      ]
     },
     "metadata": {},
     "output_type": "display_data"
    }
   ],
   "source": [
    "from google.colab import files\n",
    "files.download('model.h5')"
   ]
  },
  {
   "cell_type": "code",
   "execution_count": null,
   "metadata": {
    "id": "WeFJSdMG8sIx"
   },
   "outputs": [],
   "source": [
    "del model"
   ]
  },
  {
   "cell_type": "code",
   "execution_count": null,
   "metadata": {
    "colab": {
     "base_uri": "https://localhost:8080/",
     "height": 166
    },
    "id": "4wpJuYhi8-CC",
    "outputId": "bc10f8a3-9d22-4ca0-8249-bb817a7511d5"
   },
   "outputs": [
    {
     "ename": "NameError",
     "evalue": "ignored",
     "output_type": "error",
     "traceback": [
      "\u001b[0;31m---------------------------------------------------------------------------\u001b[0m",
      "\u001b[0;31mNameError\u001b[0m                                 Traceback (most recent call last)",
      "\u001b[0;32m<ipython-input-34-1f8a688cae5d>\u001b[0m in \u001b[0;36m<module>\u001b[0;34m()\u001b[0m\n\u001b[0;32m----> 1\u001b[0;31m \u001b[0mmodel\u001b[0m\u001b[0;34m\u001b[0m\u001b[0;34m\u001b[0m\u001b[0m\n\u001b[0m",
      "\u001b[0;31mNameError\u001b[0m: name 'model' is not defined"
     ]
    }
   ],
   "source": [
    "model"
   ]
  },
  {
   "cell_type": "code",
   "execution_count": null,
   "metadata": {
    "id": "7rRKR56j8uzn"
   },
   "outputs": [],
   "source": [
    "model =  tf.keras.models.load_model('model.h5')"
   ]
  },
  {
   "cell_type": "code",
   "execution_count": null,
   "metadata": {
    "colab": {
     "base_uri": "https://localhost:8080/"
    },
    "id": "9OsRM2xb9B4k",
    "outputId": "118168eb-4c4b-4e5c-8393-c945f2e0e2f2"
   },
   "outputs": [
    {
     "data": {
      "text/plain": [
       "<keras.engine.functional.Functional at 0x7f29f6789fd0>"
      ]
     },
     "execution_count": 36,
     "metadata": {},
     "output_type": "execute_result"
    }
   ],
   "source": [
    "model"
   ]
  },
  {
   "cell_type": "markdown",
   "metadata": {
    "id": "B9ljYYViFB8_"
   },
   "source": [
    "# Making predictions and plotting the result"
   ]
  },
  {
   "cell_type": "code",
   "execution_count": null,
   "metadata": {
    "colab": {
     "base_uri": "https://localhost:8080/"
    },
    "id": "re0iQ0MPaKgC",
    "outputId": "54e3991f-3c78-4c25-cbd9-f6d1543e8fb3"
   },
   "outputs": [
    {
     "name": "stdout",
     "output_type": "stream",
     "text": [
      "sum: [0.99999994 0.99999994 0.99999994 ... 0.99999994 1.         1.0000002 ]\n",
      "predict index: [9 2 1 ... 8 1 5]\n"
     ]
    }
   ],
   "source": [
    "#Type your code here\n",
    "\n",
    "prediction = model.predict(x_test) #calling model.predict() here\n",
    "\n",
    "\n",
    "print(\n",
    "    f'sum: {np.sum(prediction, axis=1)}\\n'\n",
    "    f'predict index: {np.argmax(prediction, axis=1)}'\n",
    ")"
   ]
  },
  {
   "cell_type": "code",
   "execution_count": null,
   "metadata": {
    "colab": {
     "base_uri": "https://localhost:8080/"
    },
    "id": "H77sVnuF68K1",
    "outputId": "2b040136-23dd-4b28-a7e5-6222cc10d7dd"
   },
   "outputs": [
    {
     "data": {
      "text/plain": [
       "array([[5.4413771e-08, 1.8570617e-11, 6.8192092e-09, ..., 3.6555864e-02,\n",
       "        2.8568069e-05, 9.6174353e-01],\n",
       "       [1.5563226e-05, 1.0320427e-09, 9.9866652e-01, ..., 9.7493445e-14,\n",
       "        1.3119085e-08, 1.9169542e-17],\n",
       "       [8.1439119e-08, 9.9999988e-01, 5.8615356e-11, ..., 6.1053196e-18,\n",
       "        2.8908983e-11, 4.3598649e-14],\n",
       "       ...,\n",
       "       [2.1659962e-06, 2.2895998e-09, 8.5213365e-08, ..., 2.2507679e-10,\n",
       "        9.9999154e-01, 7.1258513e-11],\n",
       "       [5.5945276e-07, 9.9989247e-01, 8.9175147e-09, ..., 1.0728689e-12,\n",
       "        1.1129745e-07, 1.5262858e-08],\n",
       "       [1.5985507e-06, 1.7443305e-08, 6.4973091e-07, ..., 1.2063382e-02,\n",
       "        2.6020862e-04, 7.5334506e-06]], dtype=float32)"
      ]
     },
     "execution_count": 28,
     "metadata": {},
     "output_type": "execute_result"
    }
   ],
   "source": [
    "prediction"
   ]
  },
  {
   "cell_type": "code",
   "execution_count": null,
   "metadata": {
    "colab": {
     "base_uri": "https://localhost:8080/",
     "height": 481
    },
    "id": "w2qA6thO8B3s",
    "outputId": "d0e1c485-8f49-419e-d912-74978ce71c77"
   },
   "outputs": [
    {
     "data": {
      "image/png": "[encoded data removed]",
      "text/plain": [
       "<Figure size 1440x576 with 15 Axes>"
      ]
     },
     "metadata": {},
     "output_type": "display_data"
    }
   ],
   "source": [
    "figure = plt.figure(figsize=(20,8))\n",
    "\n",
    "for i, index in enumerate(np.random.choice(x_test.shape[0], size=15, replace=False)):\n",
    "    ax = figure.add_subplot(3, 5, i + 1, xticks=[], yticks=[])\n",
    "   \n",
    "    ax.imshow(x_test[index].reshape(28,28), cmap='gray')\n",
    "    predict_index = np.argmax(prediction[index])\n",
    "    true_index = np.argmax(test_one_hot[index])\n",
    "   \n",
    "    ax.set_title(\"{} ({})\".format(fashion_mnist_labels[predict_index], \n",
    "                fashion_mnist_labels[true_index]),\n",
    "                color=(\"green\" if predict_index == true_index else \"red\"))"
   ]
  },
  {
   "cell_type": "code",
   "execution_count": null,
   "metadata": {
    "id": "6B_JPoqj1ThG"
   },
   "outputs": [],
   "source": []
  }
 ],
 "metadata": {
  "accelerator": "GPU",
  "colab": {
   "collapsed_sections": [],
   "name": "Image_Recognition_with_Fashion_MNIST_Dataset.ipynb",
   "provenance": []
  },
  "kernelspec": {
   "display_name": "Python 3 (ipykernel)",
   "language": "python",
   "name": "python3"
  },
  "language_info": {
   "codemirror_mode": {
    "name": "ipython",
    "version": 3
   },
   "file_extension": ".py",
   "mimetype": "text/x-python",
   "name": "python",
   "nbconvert_exporter": "python",
   "pygments_lexer": "ipython3",
   "version": "3.7.11"
  }
 },
 "nbformat": 4,
 "nbformat_minor": 1
}
